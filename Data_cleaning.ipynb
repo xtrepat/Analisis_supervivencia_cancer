{
 "cells": [
  {
   "cell_type": "code",
   "execution_count": 333,
   "id": "41b9b0fe-a8c3-4b96-a977-8693441bccf0",
   "metadata": {},
   "outputs": [],
   "source": [
    "import pandas as pd\n",
    "\n",
    "# Cargar los datasets de pacientes con cancer de mama\n",
    "dataset_mama_1 = pd.read_csv(\"Datasets/Breast/brca_metabric_clinical_data.tsv\", sep=\"\\t\")\n",
    "dataset_mama_2 = pd.read_csv(\"Datasets/Breast/brca_tcga_clinical_data.tsv\", sep=\"\\t\")\n",
    "dataset_mama_3 = pd.read_csv(\"Datasets/Breast/brca_tcga_pan_can_atlas_2018_clinical_data.tsv\", sep=\"\\t\")\n",
    "dataset_mama_4 = pd.read_csv(\"Datasets/Breast/breast_ink4_msk_2021_clinical_data.tsv\", sep=\"\\t\")\n",
    "dataset_mama_5 = pd.read_csv(\"Datasets/Breast/breast_msk_2025_clinical_data.tsv\", sep=\"\\t\")\n",
    "\n",
    "# Cargar los datasets de pacientes con cancer de pulmón\n",
    "dataset_pulmon_1 = pd.read_csv(\"Datasets/Lung/luad_mskcc_2023_met_organotropism_clinical_data.tsv\", sep=\"\\t\")\n",
    "dataset_pulmon_2 = pd.read_csv(\"Datasets/Lung/lung_msk_mind_2020_clinical_data.tsv\", sep=\"\\t\")\n",
    "dataset_pulmon_3 = pd.read_csv(\"Datasets/Lung/lusc_tcga_pan_can_atlas_2018_clinical_data.tsv\", sep=\"\\t\")\n",
    "dataset_pulmon_4 = pd.read_csv(\"Datasets/Lung/nsclc_tcga_broad_2016_clinical_data.tsv\", sep=\"\\t\")\n",
    "dataset_pulmon_5 = pd.read_csv(\"Datasets/Lung/nsclc_ctdx_msk_2022_clinical_data.tsv\", sep=\"\\t\")\n",
    "\n",
    "# Cargar los datasets de pacientes con cancer de colon\n",
    "dataset_colon_1 = pd.read_csv(\"Datasets/Colorectal/coadread_tcga_clinical_data.tsv\", sep=\"\\t\")\n",
    "dataset_colon_2 = pd.read_csv(\"Datasets/Colorectal/coadread_tcga_pan_can_atlas_2018_clinical_data.tsv\", sep=\"\\t\")\n",
    "dataset_colon_3 = pd.read_csv(\"Datasets/Colorectal/crc_eo_2020_clinical_data.tsv\", sep=\"\\t\")\n",
    "dataset_colon_4 = pd.read_csv(\"Datasets/Colorectal/crc_msk_2017_clinical_data.tsv\", sep=\"\\t\")\n",
    "dataset_colon_5 = pd.read_csv(\"Datasets/Colorectal/bowel_colitis_msk_2022_clinical_data.tsv\", sep=\"\\t\")\n",
    "\n",
    "# Unir todos los datasets\n",
    "all_data = pd.concat([dataset_mama_1, dataset_mama_2, dataset_mama_3, dataset_mama_4, dataset_mama_5, \n",
    "                     dataset_pulmon_1, dataset_pulmon_2, dataset_pulmon_3, dataset_pulmon_4, dataset_pulmon_5,\n",
    "                     dataset_colon_1, dataset_colon_2, dataset_colon_3, dataset_colon_4, dataset_colon_5], ignore_index=True)\n"
   ]
  },
  {
   "cell_type": "code",
   "execution_count": 344,
   "id": "17463200-7a98-45e4-baf3-435603764fcf",
   "metadata": {},
   "outputs": [
    {
     "name": "stdout",
     "output_type": "stream",
     "text": [
      "<class 'pandas.core.frame.DataFrame'>\n",
      "RangeIndex: 2653 entries, 0 to 2652\n",
      "Data columns (total 94 columns):\n",
      " #   Column                                        Non-Null Count  Dtype  \n",
      "---  ------                                        --------------  -----  \n",
      " 0   Study ID                                      2653 non-null   object \n",
      " 1   Patient ID                                    2653 non-null   object \n",
      " 2   Sample ID                                     2653 non-null   object \n",
      " 3   Adjuvant                                      641 non-null    object \n",
      " 4   Adjuvant Chemotherapy                         880 non-null    object \n",
      " 5   Adjuvant Immunotherapy                        880 non-null    object \n",
      " 6   Adjuvant Targeted                             880 non-null    object \n",
      " 7   Adjuvant Therapy                              603 non-null    object \n",
      " 8   Adjuvant XRT                                  880 non-null    object \n",
      " 9   Adrenal Met Status (Months)                   38 non-null     float64\n",
      " 10  Adrenal Met Status                            882 non-null    object \n",
      " 11  Age at Surgery/Biopsy                         2422 non-null   float64\n",
      " 12  Bone Met Status (Months)                      117 non-null    float64\n",
      " 13  Bone Met Status                               882 non-null    object \n",
      " 14  Cancer Type                                   2653 non-null   object \n",
      " 15  Cancer Type Detailed                          2653 non-null   object \n",
      " 16  Cell Cycle                                    2422 non-null   object \n",
      " 17  Tobacco History                               882 non-null    object \n",
      " 18  CNS Met Status (Months)                       103 non-null    float64\n",
      " 19  CNS Met Status                                882 non-null    object \n",
      " 20  Clinical Stage                                861 non-null    object \n",
      " 21  Death                                         766 non-null    object \n",
      " 22  Ever Met to Site: Adrenal                     766 non-null    float64\n",
      " 23  Ever Met to Site: Bone                        766 non-null    float64\n",
      " 24  Ever Met to Site: CNS                         766 non-null    float64\n",
      " 25  Ever Met to Site: Liver                       766 non-null    float64\n",
      " 26  Ever Met to Site: Lymph Nodes                 766 non-null    float64\n",
      " 27  Ever Met to Site: Lung                        766 non-null    float64\n",
      " 28  Ever Met to Site: Pleura                      766 non-null    float64\n",
      " 29  FGA                                           2422 non-null   float64\n",
      " 30  Fraction Genome Altered                       2407 non-null   float64\n",
      " 31  At Least 2 Years Follow Up                    766 non-null    object \n",
      " 32  Gene Panel                                    2653 non-null   object \n",
      " 33  Group Number                                  2422 non-null   object \n",
      " 34  Had Surgery                                   880 non-null    object \n",
      " 35  HIPPO Pathway                                 2422 non-null   object \n",
      " 36  Samples used in Metastatic Lesion (ML) group  1552 non-null   object \n",
      " 37  Group Assignment for Primary Samples          766 non-null    object \n",
      " 38  Samples used in Matched Analysis (Group 5)    2422 non-null   object \n",
      " 39  Institute Source                              2357 non-null   object \n",
      " 40  Is WGD                                        2653 non-null   int64  \n",
      " 41  Liver Met Status (Months)                     42 non-null     float64\n",
      " 42  Liver Met Status                              882 non-null    object \n",
      " 43  LN Met Status (Months)                        143 non-null    float64\n",
      " 44  LN Met Status                                 882 non-null    object \n",
      " 45  Lung Met Status (Months)                      150 non-null    float64\n",
      " 46  Lung Met Status                               882 non-null    object \n",
      " 47  Metastatic Burden                             766 non-null    float64\n",
      " 48  Metastatic Site                               1666 non-null   object \n",
      " 49  Months from Matched Primary                   348 non-null    float64\n",
      " 50  MSI Score                                     2348 non-null   float64\n",
      " 51  MSI Type                                      2348 non-null   object \n",
      " 52  Mutation Count                                2626 non-null   float64\n",
      " 53  MYC Pathway                                   2422 non-null   object \n",
      " 54  Neoadjuvant                                   668 non-null    object \n",
      " 55  Neoadjuvant Chemotherapy                      668 non-null    object \n",
      " 56  Neoadjuvant Immunotherapy                     668 non-null    object \n",
      " 57  Neoadjuvant Targeted                          668 non-null    object \n",
      " 58  Neoadjuvant XRT                               668 non-null    object \n",
      " 59  NOTCH Pathway                                 2422 non-null   object \n",
      " 60  NRF2 Pathway                                  2422 non-null   object \n",
      " 61  Oncotree Code                                 2653 non-null   object \n",
      " 62  Overall Survival (Months)                     882 non-null    float64\n",
      " 63  Overall Survival Status                       882 non-null    object \n",
      " 64  PI3K Pathway                                  2422 non-null   object \n",
      " 65  Pleura Met Status (Months)                    73 non-null     float64\n",
      " 66  Pleura Met Status                             740 non-null    object \n",
      " 67  Ploidy                                        2653 non-null   float64\n",
      " 68  Post Sample Chemotherapy                      2422 non-null   object \n",
      " 69  Post Sample Immunotherapy                     2422 non-null   object \n",
      " 70  Post Sample Targeted                          2422 non-null   object \n",
      " 71  Post Sample Tx                                2422 non-null   object \n",
      " 72  Post Sample XRT                               2422 non-null   object \n",
      " 73  Pre Sample Chemotherapy                       2422 non-null   object \n",
      " 74  Pre Sample Immunotherapy                      2422 non-null   object \n",
      " 75  Pre Sample Targeted                           2422 non-null   object \n",
      " 76  Pre Sample Tx                                 2422 non-null   object \n",
      " 77  Pre Sample XRT                                2422 non-null   object \n",
      " 78  Predominant Histologic Subtype                641 non-null    object \n",
      " 79  Primary Tumor Site                            2422 non-null   object \n",
      " 80  Pathologic Stage                              799 non-null    object \n",
      " 81  Purity                                        2584 non-null   float64\n",
      " 82  Race Category                                 2554 non-null   object \n",
      " 83  RTK- RAS Pathway                              2422 non-null   object \n",
      " 84  Sample Class                                  2422 non-null   object \n",
      " 85  Number of Samples Per Patient                 2653 non-null   int64  \n",
      " 86  Sample coverage                               2422 non-null   float64\n",
      " 87  Sample Type                                   2653 non-null   object \n",
      " 88  Sex                                           2554 non-null   object \n",
      " 89  Somatic Status                                2653 non-null   object \n",
      " 90  TGF-Beta Pathway                              2422 non-null   object \n",
      " 91  TMB (nonsynonymous)                           2653 non-null   float64\n",
      " 92  TP53 Pathway                                  2422 non-null   object \n",
      " 93  WNT Pathway                                   2422 non-null   object \n",
      "dtypes: float64(26), int64(2), object(66)\n",
      "memory usage: 1.9+ MB\n"
     ]
    }
   ],
   "source": [
    "dataset_pulmon_1.info()"
   ]
  },
  {
   "cell_type": "code",
   "execution_count": 335,
   "id": "c27a8948-055d-4b02-a597-32d86ec31895",
   "metadata": {},
   "outputs": [],
   "source": [
    "# Seleccionar solo las columnas deseadas\n",
    "all_data = all_data[['Patient ID', 'Age at Diagnosis', 'Cancer Type', 'Cancer Type Detailed', 'Mutation Count', 'Overall Survival (Months)',\n",
    "                    'Overall Survival Status', 'Sex', 'Ethnicity Category', 'Race Category', 'ETHNICITY', 'GENDER', 'RACE', 'SEX',\n",
    "                    'Tobacco History', 'Smoking history', 'Smoker Status', 'OS_MONTHS', 'OS_STATUS', 'AGE_CURRENT', 'Diagnosis Age', 'CANCER_TYPE',\n",
    "                    'CANCER_TYPE_DETAILED', 'MUTATION_COUNT', 'Age at Which Sequencing was Reported (Years)']]\n"
   ]
  },
  {
   "cell_type": "code",
   "execution_count": 336,
   "id": "e2f68901-2678-47ee-b259-88d602095b0e",
   "metadata": {},
   "outputs": [
    {
     "name": "stdout",
     "output_type": "stream",
     "text": [
      "<class 'pandas.core.frame.DataFrame'>\n",
      "RangeIndex: 15661 entries, 0 to 15660\n",
      "Data columns (total 25 columns):\n",
      " #   Column                                        Non-Null Count  Dtype  \n",
      "---  ------                                        --------------  -----  \n",
      " 0   Patient ID                                    14661 non-null  object \n",
      " 1   Age at Diagnosis                              5145 non-null   float64\n",
      " 2   Cancer Type                                   14656 non-null  object \n",
      " 3   Cancer Type Detailed                          14656 non-null  object \n",
      " 4   Mutation Count                                13688 non-null  float64\n",
      " 5   Overall Survival (Months)                     8852 non-null   float64\n",
      " 6   Overall Survival Status                       10133 non-null  object \n",
      " 7   Sex                                           14470 non-null  object \n",
      " 8   Ethnicity Category                            4336 non-null   object \n",
      " 9   Race Category                                 8649 non-null   object \n",
      " 10  ETHNICITY                                     938 non-null    object \n",
      " 11  GENDER                                        500 non-null    object \n",
      " 12  RACE                                          938 non-null    object \n",
      " 13  SEX                                           500 non-null    object \n",
      " 14  Tobacco History                               882 non-null    object \n",
      " 15  Smoking history                               1447 non-null   object \n",
      " 16  Smoker Status                                 1447 non-null   object \n",
      " 17  OS_MONTHS                                     999 non-null    float64\n",
      " 18  OS_STATUS                                     999 non-null    object \n",
      " 19  AGE_CURRENT                                   438 non-null    float64\n",
      " 20  Diagnosis Age                                 5009 non-null   float64\n",
      " 21  CANCER_TYPE                                   1000 non-null   object \n",
      " 22  CANCER_TYPE_DETAILED                          1000 non-null   object \n",
      " 23  MUTATION_COUNT                                483 non-null    float64\n",
      " 24  Age at Which Sequencing was Reported (Years)  1720 non-null   object \n",
      "dtypes: float64(7), object(18)\n",
      "memory usage: 3.0+ MB\n"
     ]
    }
   ],
   "source": [
    "all_data.info()"
   ]
  },
  {
   "cell_type": "code",
   "execution_count": 337,
   "id": "8fbb3f8f-5204-4731-9197-795a21791a1d",
   "metadata": {},
   "outputs": [],
   "source": [
    "# Duplicamos columnas para unificarlas en nuevas estándar\n",
    "all_data['Gender'] = all_data['Sex'].combine_first(all_data['SEX']).combine_first(all_data['GENDER'])\n",
    "all_data['Ethnicity'] = all_data['Ethnicity Category'].combine_first(all_data['ETHNICITY'])\n",
    "all_data['Race'] = all_data['Race Category'].combine_first(all_data['RACE'])\n",
    "all_data['Cancer Type'] = all_data['Cancer Type'].combine_first(all_data['CANCER_TYPE'])\n",
    "all_data['Cancer Type Detailed'] = all_data['Cancer Type Detailed'].combine_first(all_data['CANCER_TYPE_DETAILED'])\n",
    "all_data['Mutation Count'] = all_data['Mutation Count'].combine_first(all_data['MUTATION_COUNT'])\n",
    "all_data['Overall Survival (Months)'] = all_data['Overall Survival (Months)'].combine_first(all_data['OS_MONTHS'])\n",
    "all_data['Overall Survival Status'] = all_data['Overall Survival Status'].combine_first(all_data['OS_STATUS'])\n",
    "\n",
    "# Para Edad\n",
    "all_data['Age at Diagnosis'] = all_data['Age at Diagnosis'] \\\n",
    "    .combine_first(all_data['Diagnosis Age']) \\\n",
    "    .combine_first(all_data['AGE_CURRENT']) \\\n",
    "    .combine_first(all_data['Age at Which Sequencing was Reported (Years)'])\n",
    "\n",
    "# Para Tabaquismo (opcional)\n",
    "all_data['Smoking Status'] = all_data['Tobacco History'] \\\n",
    "    .combine_first(all_data['Smoking history']) \\\n",
    "    .combine_first(all_data['Smoker Status'])\n"
   ]
  },
  {
   "cell_type": "code",
   "execution_count": 338,
   "id": "35ea19b5-2a8b-41a5-b265-b152afcf0abd",
   "metadata": {},
   "outputs": [],
   "source": [
    "all_data = all_data[['Patient ID', 'Age at Diagnosis', 'Cancer Type', 'Cancer Type Detailed',\n",
    "                     'Mutation Count', 'Overall Survival (Months)', 'Overall Survival Status',\n",
    "                     'Gender', 'Ethnicity', 'Race']]"
   ]
  },
  {
   "cell_type": "code",
   "execution_count": 339,
   "id": "06f64aa0-7fea-4d98-9f52-2b0604c63cae",
   "metadata": {},
   "outputs": [
    {
     "name": "stdout",
     "output_type": "stream",
     "text": [
      "<class 'pandas.core.frame.DataFrame'>\n",
      "RangeIndex: 15661 entries, 0 to 15660\n",
      "Data columns (total 10 columns):\n",
      " #   Column                     Non-Null Count  Dtype  \n",
      "---  ------                     --------------  -----  \n",
      " 0   Patient ID                 14661 non-null  object \n",
      " 1   Age at Diagnosis           12198 non-null  object \n",
      " 2   Cancer Type                15656 non-null  object \n",
      " 3   Cancer Type Detailed       15656 non-null  object \n",
      " 4   Mutation Count             14171 non-null  float64\n",
      " 5   Overall Survival (Months)  9851 non-null   float64\n",
      " 6   Overall Survival Status    11132 non-null  object \n",
      " 7   Gender                     15470 non-null  object \n",
      " 8   Ethnicity                  5274 non-null   object \n",
      " 9   Race                       9587 non-null   object \n",
      "dtypes: float64(2), object(8)\n",
      "memory usage: 1.2+ MB\n"
     ]
    }
   ],
   "source": [
    "all_data.info()"
   ]
  },
  {
   "cell_type": "markdown",
   "id": "3fbada50-3c54-49c0-b35b-88399c64dfe7",
   "metadata": {},
   "source": [
    "**Modificamos las categorias de la variable Ethnicity y Gender para que queden compactadas y sin duplicados**"
   ]
  },
  {
   "cell_type": "code",
   "execution_count": 345,
   "id": "45dc5655-06f3-43d3-a5a9-4f39b86c556a",
   "metadata": {},
   "outputs": [],
   "source": [
    "# Normalizar texto\n",
    "all_data['Ethnicity'] = all_data['Ethnicity'].str.strip().str.lower().str.title()\n",
    "\n",
    "# Reemplazar y agrupar valores equivalentes\n",
    "ethnicity_map = {\n",
    "    # Agrupar variantes de \"Not Hispanic or Latino\"\n",
    "    'Non-Spanish; Non-Hispanic': 'Not Hispanic or Latino',\n",
    "    'Not Hispanic Or Latino': 'Not Hispanic or Latino',\n",
    "    'Not Hispanic Or Latino': 'Not Hispanic or Latino',\n",
    "    \n",
    "    # Agrupar variantes de \"Hispanic or Latino\"\n",
    "    'Hispanic Or Latino': 'Hispanic or Latino',\n",
    "    'Spanish  Nos; Hispanic Nos, Latino Nos': 'Hispanic or Latino',\n",
    "\n",
    "    # Agrupar subcategorías como parte de \"Hispanic or Latino\"\n",
    "    'South/Central America (Except Brazil)': 'Hispanic or Latino',\n",
    "    'Puerto Rican': 'Hispanic or Latino',\n",
    "    'Cuban': 'Hispanic or Latino',\n",
    "    'Dominican Republic': 'Hispanic or Latino',\n",
    "    'Other Spanish/Hispanic(Incl European; Excl Dom Rep': 'Hispanic or Latino',\n",
    "    'Mexican (Includes Chicano)': 'Hispanic or Latino',\n",
    "    'Spanish Surname Only': 'Hispanic or Latino',\n",
    "\n",
    "    # Agrupar desconocidos\n",
    "    'Unknown Whether Spanish Or Not': 'Unknown',\n",
    "}\n",
    "\n",
    "# Aplicar el mapeo\n",
    "all_data['Ethnicity'] = all_data['Ethnicity'].replace(ethnicity_map)\n",
    "\n"
   ]
  },
  {
   "cell_type": "code",
   "execution_count": 346,
   "id": "ddfc98b1-0082-40e2-9199-1f1b146da8df",
   "metadata": {},
   "outputs": [],
   "source": [
    "# Normalizar texto\n",
    "all_data['Gender'] = all_data['Gender'].str.strip().str.lower().str.title()\n",
    "\n",
    "# Reemplazar equivalencias (si lo necesitas explícito)\n",
    "gender_map = {\n",
    "    'Female': 'Female',\n",
    "    'FEMALE': 'Female',\n",
    "    'Male': 'Male',\n",
    "    'MALE': 'Male',\n",
    "    'Unknown': 'Unknown'\n",
    "}\n",
    "# En realidad, con el str.title() ya es suficiente, pero por si acaso:\n",
    "all_data['Gender'] = all_data['Gender'].replace(gender_map)\n",
    "\n",
    "# Filtrar el DataFrame para excluir registros con 'Unknown' en Gender\n",
    "all_data = all_data[all_data['Gender'] != 'Unknown']\n"
   ]
  },
  {
   "cell_type": "code",
   "execution_count": 347,
   "id": "c102876a-bac5-4a36-866d-911a1270c667",
   "metadata": {},
   "outputs": [
    {
     "data": {
      "text/plain": [
       "Overall Survival Status\n",
       "0:LIVING      7106\n",
       "1:DECEASED    4026\n",
       "Name: count, dtype: int64"
      ]
     },
     "execution_count": 347,
     "metadata": {},
     "output_type": "execute_result"
    }
   ],
   "source": [
    "all_data['Overall Survival Status'].value_counts()"
   ]
  },
  {
   "cell_type": "markdown",
   "id": "9c6ddc63-f23e-4075-a792-b7f76a095cad",
   "metadata": {},
   "source": [
    "**La variable Overall Survival Status dictamina la supervivencia del paciente. Los registros de los culaes no tengamos información de la supervivencia habrá que eliminarlos ya que es la variable que nos da la información de si el paciente salió con vida del cáncer o si murió**"
   ]
  },
  {
   "cell_type": "code",
   "execution_count": 348,
   "id": "2504bd38-f862-4076-bedb-f6eef1299549",
   "metadata": {},
   "outputs": [],
   "source": [
    "# Eliminar registros con NaN en 'Overall Survival Status'\n",
    "all_data = all_data.dropna(subset=['Overall Survival Status'])"
   ]
  },
  {
   "cell_type": "code",
   "execution_count": 349,
   "id": "a1c5c41f-59b0-4b97-84e2-2db754bfc625",
   "metadata": {},
   "outputs": [],
   "source": [
    "# Eliminar registros con valores nulos en la columna 'Cancer Type'\n",
    "all_data = all_data.dropna(subset=['Cancer Type'])"
   ]
  },
  {
   "cell_type": "code",
   "execution_count": 350,
   "id": "3a5f1c07-e2b4-43f0-82c0-d073bbe0a05a",
   "metadata": {},
   "outputs": [
    {
     "name": "stdout",
     "output_type": "stream",
     "text": [
      "<class 'pandas.core.frame.DataFrame'>\n",
      "Index: 11131 entries, 0 to 15644\n",
      "Data columns (total 10 columns):\n",
      " #   Column                     Non-Null Count  Dtype  \n",
      "---  ------                     --------------  -----  \n",
      " 0   Patient ID                 10132 non-null  object \n",
      " 1   Age at Diagnosis           9648 non-null   object \n",
      " 2   Cancer Type                11131 non-null  object \n",
      " 3   Cancer Type Detailed       11131 non-null  object \n",
      " 4   Mutation Count             9781 non-null   float64\n",
      " 5   Overall Survival (Months)  9830 non-null   float64\n",
      " 6   Overall Survival Status    11131 non-null  object \n",
      " 7   Gender                     11129 non-null  object \n",
      " 8   Ethnicity                  3917 non-null   object \n",
      " 9   Race                       6189 non-null   object \n",
      "dtypes: float64(2), object(8)\n",
      "memory usage: 956.6+ KB\n"
     ]
    }
   ],
   "source": [
    "all_data.info()"
   ]
  },
  {
   "cell_type": "code",
   "execution_count": 351,
   "id": "cb7655ea-011d-4de2-92c4-26f0a7d4925f",
   "metadata": {},
   "outputs": [
    {
     "data": {
      "text/plain": [
       "Cancer Type\n",
       "Breast Cancer                 4659\n",
       "Colorectal Cancer             3556\n",
       "Non-Small Cell Lung Cancer    2835\n",
       "Colon Adenocarcinoma            19\n",
       "Rectal Adenocarcinoma           14\n",
       "Cancer of Unknown Primary       13\n",
       "Colorectal Adenocarcinoma       11\n",
       "Small Bowel Cancer              11\n",
       "Breast Cancer, NOS               7\n",
       "Breast Sarcoma                   2\n",
       "Small Cell Lung Cancer           2\n",
       "Skin Cancer, Non-Melanoma        1\n",
       "Miscellaneous Brain Tumor        1\n",
       "Name: count, dtype: int64"
      ]
     },
     "execution_count": 351,
     "metadata": {},
     "output_type": "execute_result"
    }
   ],
   "source": [
    "all_data['Cancer Type'].value_counts()"
   ]
  },
  {
   "cell_type": "code",
   "execution_count": 354,
   "id": "47c9eba0-4f69-46ed-be11-e87ff7a30a1c",
   "metadata": {},
   "outputs": [
    {
     "name": "stdout",
     "output_type": "stream",
     "text": [
      "Cancer Type\n",
      "Breast Cancer        4668\n",
      "Colorectal Cancer    3611\n",
      "Lung Cancer          2837\n",
      "Name: count, dtype: int64\n"
     ]
    }
   ],
   "source": [
    "# Agrupar los registros en tres categorías: Breast Cancer, Colorectal Cancer, Lung Cancer\n",
    "all_data['Cancer Type'] = all_data['Cancer Type'].replace({\n",
    "    'Breast Cancer': 'Breast Cancer',\n",
    "    'Breast Cancer, NOS': 'Breast Cancer',\n",
    "    'Breast Sarcoma': 'Breast Cancer',\n",
    "    'Colorectal Cancer': 'Colorectal Cancer',\n",
    "    'Colorectal Adenocarcinoma': 'Colorectal Cancer',\n",
    "    'Small Bowel Cancer': 'Colorectal Cancer',\n",
    "    'Rectal Adenocarcinoma': 'Colorectal Cancer',\n",
    "    'Colon Adenocarcinoma': 'Colorectal Cancer',\n",
    "    'Non-Small Cell Lung Cancer': 'Lung Cancer',\n",
    "    'Small Cell Lung Cancer': 'Lung Cancer'\n",
    "})\n",
    "\n",
    "# Filtrar el DataFrame para excluir registros con 'Skin Cancer, Non-Melanoma', 'Cancer of Unknown Primary'\n",
    "all_data = all_data[all_data['Cancer Type'] != 'Skin Cancer, Non-Melanoma']\n",
    "all_data = all_data[all_data['Cancer Type'] != 'Cancer of Unknown Primary']\n",
    "all_data = all_data[all_data['Cancer Type'] != 'Miscellaneous Brain Tumor']\n",
    "\n",
    "# Verificar los resultados\n",
    "print(all_data['Cancer Type'].value_counts())"
   ]
  },
  {
   "cell_type": "code",
   "execution_count": 355,
   "id": "cb4dba34-be5a-4225-8201-b1a65a6c95b9",
   "metadata": {},
   "outputs": [
    {
     "data": {
      "text/plain": [
       "Overall Survival Status\n",
       "0:LIVING      7099\n",
       "1:DECEASED    4017\n",
       "Name: count, dtype: int64"
      ]
     },
     "execution_count": 355,
     "metadata": {},
     "output_type": "execute_result"
    }
   ],
   "source": [
    "all_data['Overall Survival Status'].value_counts()"
   ]
  },
  {
   "cell_type": "code",
   "execution_count": 356,
   "id": "3ca5aa50-431c-4865-8881-5ba81bcc9bd6",
   "metadata": {},
   "outputs": [],
   "source": [
    "all_data['Overall Survival Status'] = all_data['Overall Survival Status'].map({\n",
    "    '0:LIVING': 0,\n",
    "    '1:DECEASED': 1\n",
    "})"
   ]
  },
  {
   "cell_type": "code",
   "execution_count": 357,
   "id": "5c5558a4-225f-4fb4-ab81-e9eefc40c06f",
   "metadata": {},
   "outputs": [
    {
     "data": {
      "text/plain": [
       "Race\n",
       "WHITE                               2691\n",
       "White                               2132\n",
       "BLACK OR AFRICAN AMERICAN            361\n",
       "Black or African American            285\n",
       "ASIAN-FAR EAST/INDIAN SUBCONT        204\n",
       "Asian                                196\n",
       "UNKNOWN_OTHER                         74\n",
       "ASIAN                                 73\n",
       "Black                                 39\n",
       "PT REFUSED TO ANSWER                  39\n",
       "Other                                 29\n",
       "Unknown                               20\n",
       "OTHER                                 10\n",
       "I choose not to answer                 6\n",
       "Asian-Far East/Indian Subcont          6\n",
       "Chinese                                2\n",
       "UNKNOWN                                2\n",
       "American Indian or Alaska Native       2\n",
       "AMERICAN INDIAN OR ALASKA NATIVE       2\n",
       "NATIVE AMERICAN-AM IND/ALASKA          1\n",
       "Name: count, dtype: int64"
      ]
     },
     "execution_count": 357,
     "metadata": {},
     "output_type": "execute_result"
    }
   ],
   "source": [
    "all_data['Race'].value_counts()"
   ]
  },
  {
   "cell_type": "code",
   "execution_count": 358,
   "id": "84f08db7-767b-467c-9bff-ec22e9c4e2ee",
   "metadata": {},
   "outputs": [],
   "source": [
    "all_data['Race'] = all_data['Race'].str.lower().str.strip()"
   ]
  },
  {
   "cell_type": "code",
   "execution_count": 361,
   "id": "bbd53de2-341f-4b06-b898-3534ea65e887",
   "metadata": {},
   "outputs": [],
   "source": [
    "all_data['Race'] = all_data['Race'].replace({\n",
    "    'white': 'White',\n",
    "    'black or african american': 'Black or African American',\n",
    "    'black': 'Black or African American',\n",
    "    'asian': 'Asian',\n",
    "    'asian-far east/indian subcont': 'Asian',\n",
    "    'asian far east/indian subcont': 'Asian',\n",
    "    'chinese': 'Asian',\n",
    "    'american indian or alaska native': 'Other',\n",
    "    'native american-am ind/alaska': 'Other',\n",
    "    'unknown': 'Unknown',\n",
    "    'unknown_other': 'Unknown',\n",
    "    'other': 'Other'\n",
    "})"
   ]
  },
  {
   "cell_type": "code",
   "execution_count": 362,
   "id": "0e0502c0-9538-49d1-b81b-edcd2ddc4136",
   "metadata": {},
   "outputs": [
    {
     "data": {
      "text/plain": [
       "Race\n",
       "White                        4823\n",
       "Black or African American     685\n",
       "Asian                         481\n",
       "Unknown                        96\n",
       "Other                          44\n",
       "pt refused to answer           39\n",
       "i choose not to answer          6\n",
       "Name: count, dtype: int64"
      ]
     },
     "execution_count": 362,
     "metadata": {},
     "output_type": "execute_result"
    }
   ],
   "source": [
    "all_data['Race'].value_counts()"
   ]
  },
  {
   "cell_type": "code",
   "execution_count": 363,
   "id": "f64e49df-1bfb-4450-aa5d-922bdb88357f",
   "metadata": {},
   "outputs": [],
   "source": [
    "all_data = all_data[all_data['Race'] != 'Unknown']\n",
    "all_data = all_data[all_data['Race'] != 'pt refused to answer']\n",
    "all_data = all_data[all_data['Race'] != 'i choose not to answer']"
   ]
  },
  {
   "cell_type": "code",
   "execution_count": 364,
   "id": "2719c9e4-3762-4b0a-b056-a2bc8b828010",
   "metadata": {},
   "outputs": [
    {
     "data": {
      "text/plain": [
       "Race\n",
       "White                        4823\n",
       "Black or African American     685\n",
       "Asian                         481\n",
       "Other                          44\n",
       "Name: count, dtype: int64"
      ]
     },
     "execution_count": 364,
     "metadata": {},
     "output_type": "execute_result"
    }
   ],
   "source": [
    "all_data['Race'].value_counts()"
   ]
  },
  {
   "cell_type": "code",
   "execution_count": 365,
   "id": "2b5eb500-5bb4-4cf4-85f7-fc849fbffd40",
   "metadata": {},
   "outputs": [
    {
     "data": {
      "text/html": [
       "<div>\n",
       "<style scoped>\n",
       "    .dataframe tbody tr th:only-of-type {\n",
       "        vertical-align: middle;\n",
       "    }\n",
       "\n",
       "    .dataframe tbody tr th {\n",
       "        vertical-align: top;\n",
       "    }\n",
       "\n",
       "    .dataframe thead th {\n",
       "        text-align: right;\n",
       "    }\n",
       "</style>\n",
       "<table border=\"1\" class=\"dataframe\">\n",
       "  <thead>\n",
       "    <tr style=\"text-align: right;\">\n",
       "      <th></th>\n",
       "      <th>Patient ID</th>\n",
       "      <th>Age at Diagnosis</th>\n",
       "      <th>Cancer Type</th>\n",
       "      <th>Cancer Type Detailed</th>\n",
       "      <th>Mutation Count</th>\n",
       "      <th>Overall Survival (Months)</th>\n",
       "      <th>Overall Survival Status</th>\n",
       "      <th>Gender</th>\n",
       "      <th>Ethnicity</th>\n",
       "      <th>Race</th>\n",
       "    </tr>\n",
       "  </thead>\n",
       "  <tbody>\n",
       "    <tr>\n",
       "      <th>0</th>\n",
       "      <td>MB-0000</td>\n",
       "      <td>75.65</td>\n",
       "      <td>Breast Cancer</td>\n",
       "      <td>Breast Invasive Ductal Carcinoma</td>\n",
       "      <td>NaN</td>\n",
       "      <td>140.500000</td>\n",
       "      <td>0</td>\n",
       "      <td>Female</td>\n",
       "      <td>NaN</td>\n",
       "      <td>NaN</td>\n",
       "    </tr>\n",
       "    <tr>\n",
       "      <th>1</th>\n",
       "      <td>MB-0002</td>\n",
       "      <td>43.19</td>\n",
       "      <td>Breast Cancer</td>\n",
       "      <td>Breast Invasive Ductal Carcinoma</td>\n",
       "      <td>2.0</td>\n",
       "      <td>84.633333</td>\n",
       "      <td>0</td>\n",
       "      <td>Female</td>\n",
       "      <td>NaN</td>\n",
       "      <td>NaN</td>\n",
       "    </tr>\n",
       "    <tr>\n",
       "      <th>2</th>\n",
       "      <td>MB-0005</td>\n",
       "      <td>48.87</td>\n",
       "      <td>Breast Cancer</td>\n",
       "      <td>Breast Invasive Ductal Carcinoma</td>\n",
       "      <td>2.0</td>\n",
       "      <td>163.700000</td>\n",
       "      <td>1</td>\n",
       "      <td>Female</td>\n",
       "      <td>NaN</td>\n",
       "      <td>NaN</td>\n",
       "    </tr>\n",
       "    <tr>\n",
       "      <th>3</th>\n",
       "      <td>MB-0006</td>\n",
       "      <td>47.68</td>\n",
       "      <td>Breast Cancer</td>\n",
       "      <td>Breast Mixed Ductal and Lobular Carcinoma</td>\n",
       "      <td>1.0</td>\n",
       "      <td>164.933333</td>\n",
       "      <td>0</td>\n",
       "      <td>Female</td>\n",
       "      <td>NaN</td>\n",
       "      <td>NaN</td>\n",
       "    </tr>\n",
       "    <tr>\n",
       "      <th>4</th>\n",
       "      <td>MB-0008</td>\n",
       "      <td>76.97</td>\n",
       "      <td>Breast Cancer</td>\n",
       "      <td>Breast Mixed Ductal and Lobular Carcinoma</td>\n",
       "      <td>2.0</td>\n",
       "      <td>41.366667</td>\n",
       "      <td>1</td>\n",
       "      <td>Female</td>\n",
       "      <td>NaN</td>\n",
       "      <td>NaN</td>\n",
       "    </tr>\n",
       "  </tbody>\n",
       "</table>\n",
       "</div>"
      ],
      "text/plain": [
       "  Patient ID Age at Diagnosis    Cancer Type  \\\n",
       "0    MB-0000            75.65  Breast Cancer   \n",
       "1    MB-0002            43.19  Breast Cancer   \n",
       "2    MB-0005            48.87  Breast Cancer   \n",
       "3    MB-0006            47.68  Breast Cancer   \n",
       "4    MB-0008            76.97  Breast Cancer   \n",
       "\n",
       "                        Cancer Type Detailed  Mutation Count  \\\n",
       "0           Breast Invasive Ductal Carcinoma             NaN   \n",
       "1           Breast Invasive Ductal Carcinoma             2.0   \n",
       "2           Breast Invasive Ductal Carcinoma             2.0   \n",
       "3  Breast Mixed Ductal and Lobular Carcinoma             1.0   \n",
       "4  Breast Mixed Ductal and Lobular Carcinoma             2.0   \n",
       "\n",
       "   Overall Survival (Months)  Overall Survival Status  Gender Ethnicity Race  \n",
       "0                 140.500000                        0  Female       NaN  NaN  \n",
       "1                  84.633333                        0  Female       NaN  NaN  \n",
       "2                 163.700000                        1  Female       NaN  NaN  \n",
       "3                 164.933333                        0  Female       NaN  NaN  \n",
       "4                  41.366667                        1  Female       NaN  NaN  "
      ]
     },
     "execution_count": 365,
     "metadata": {},
     "output_type": "execute_result"
    }
   ],
   "source": [
    "all_data.head()"
   ]
  },
  {
   "cell_type": "code",
   "execution_count": 366,
   "id": "af3038d4-a376-4404-ba26-f6e3ecc58300",
   "metadata": {},
   "outputs": [
    {
     "data": {
      "text/plain": [
       "Ethnicity\n",
       "Not Hispanic or Latino    3692\n",
       "Hispanic or Latino         127\n",
       "Unknown                     37\n",
       "Name: count, dtype: int64"
      ]
     },
     "execution_count": 366,
     "metadata": {},
     "output_type": "execute_result"
    }
   ],
   "source": [
    "all_data['Ethnicity'].value_counts()"
   ]
  },
  {
   "cell_type": "code",
   "execution_count": 367,
   "id": "bae74891-a969-43fe-81b2-5d19d4fa685d",
   "metadata": {},
   "outputs": [],
   "source": [
    "all_data = all_data[all_data['Ethnicity'] != 'Unknown']"
   ]
  },
  {
   "cell_type": "code",
   "execution_count": 369,
   "id": "35262334-92a0-4ada-9910-7b48080244be",
   "metadata": {},
   "outputs": [],
   "source": [
    "all_data_cleaned = all_data.dropna(subset=['Overall Survival (Months)', 'Overall Survival Status'])"
   ]
  },
  {
   "cell_type": "code",
   "execution_count": 370,
   "id": "c28fac31-a050-4ff7-ae5d-51087c5b75d7",
   "metadata": {},
   "outputs": [],
   "source": [
    "# Guardar el DataFrame en un archivo CSV\n",
    "all_data_cleaned.to_csv('Datos_todos_registros_con_meses.csv', index=False)"
   ]
  },
  {
   "cell_type": "code",
   "execution_count": 371,
   "id": "8c27f9c2-978e-4b69-898d-1697d4686272",
   "metadata": {},
   "outputs": [],
   "source": [
    "# Guardar el DataFrame en un archivo CSV\n",
    "all_data.to_csv('Datos_con_valores_smoking.csv', index=False)"
   ]
  },
  {
   "cell_type": "code",
   "execution_count": null,
   "id": "e7d486a7-f3c5-4d05-b08c-ca719feac484",
   "metadata": {},
   "outputs": [],
   "source": []
  }
 ],
 "metadata": {
  "kernelspec": {
   "display_name": "Python 3 (ipykernel)",
   "language": "python",
   "name": "python3"
  },
  "language_info": {
   "codemirror_mode": {
    "name": "ipython",
    "version": 3
   },
   "file_extension": ".py",
   "mimetype": "text/x-python",
   "name": "python",
   "nbconvert_exporter": "python",
   "pygments_lexer": "ipython3",
   "version": "3.11.7"
  }
 },
 "nbformat": 4,
 "nbformat_minor": 5
}
